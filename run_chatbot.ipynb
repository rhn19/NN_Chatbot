{
  "nbformat": 4,
  "nbformat_minor": 0,
  "metadata": {
    "colab": {
      "name": "run_chatbot.ipynb",
      "provenance": [],
      "collapsed_sections": [],
      "authorship_tag": "ABX9TyM5pF0HQEPvWuRgnt382pxR",
      "include_colab_link": true
    },
    "kernelspec": {
      "name": "python3",
      "display_name": "Python 3"
    },
    "accelerator": "GPU"
  },
  "cells": [
    {
      "cell_type": "markdown",
      "metadata": {
        "id": "view-in-github",
        "colab_type": "text"
      },
      "source": [
        "<a href=\"https://colab.research.google.com/github/rhn19/NN_Chatbot/blob/master/run_chatbot.ipynb\" target=\"_parent\"><img src=\"https://colab.research.google.com/assets/colab-badge.svg\" alt=\"Open In Colab\"/></a>"
      ]
    },
    {
      "cell_type": "markdown",
      "metadata": {
        "id": "ZCTBZErYb6g0",
        "colab_type": "text"
      },
      "source": [
        "Upload all .py files to this runtime before running"
      ]
    },
    {
      "cell_type": "code",
      "metadata": {
        "id": "axI2Dz6scd1B",
        "colab_type": "code",
        "colab": {}
      },
      "source": [
        "!wget \"http://www.cs.cornell.edu/~cristian/data/cornell_movie_dialogs_corpus.zip\"\n",
        "!unzip -q /content/cornell_movie_dialogs_corpus.zip -d /content/data"
      ],
      "execution_count": 0,
      "outputs": []
    },
    {
      "cell_type": "code",
      "metadata": {
        "id": "OCTaX2N5cyoD",
        "colab_type": "code",
        "colab": {}
      },
      "source": [
        "#Prepare Vocab & Data Pairs\n",
        "!python3 prepare_dataset.py\n",
        "!python3 vocab.py"
      ],
      "execution_count": 0,
      "outputs": []
    },
    {
      "cell_type": "code",
      "metadata": {
        "id": "ZHBGD3kzEzr4",
        "colab_type": "code",
        "colab": {}
      },
      "source": [
        "#Run this block if you are uploading vocab & pairs\n",
        "#!mkdir generated\n",
        "#!mv processed_pairs.txt generated/\n",
        "#!mv vocab.json generated/"
      ],
      "execution_count": 0,
      "outputs": []
    },
    {
      "cell_type": "code",
      "metadata": {
        "id": "3yVy5voN-O3R",
        "colab_type": "code",
        "colab": {}
      },
      "source": [
        "#Check loadFileName in run.py if you are training from scratch\n",
        "!python3 run.py train"
      ],
      "execution_count": 0,
      "outputs": []
    },
    {
      "cell_type": "code",
      "metadata": {
        "id": "pH7nB3z7VzTM",
        "colab_type": "code",
        "colab": {}
      },
      "source": [
        "!python3 run.py test"
      ],
      "execution_count": 0,
      "outputs": []
    }
  ]
}